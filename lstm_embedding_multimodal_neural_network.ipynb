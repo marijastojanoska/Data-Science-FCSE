{
  "nbformat": 4,
  "nbformat_minor": 0,
  "metadata": {
    "colab": {
      "provenance": []
    },
    "kernelspec": {
      "name": "python3",
      "display_name": "Python 3"
    },
    "language_info": {
      "name": "python"
    }
  },
  "cells": [
    {
      "cell_type": "code",
      "source": [
        "!gdown 1dx2Hw8873hJ1nZIgnDxwjqXezYUb3jSP"
      ],
      "metadata": {
        "colab": {
          "base_uri": "https://localhost:8080/"
        },
        "id": "1ATiKCbh_Kwg",
        "outputId": "521ab038-6ac9-4fa6-957c-593cdbd7280d"
      },
      "execution_count": 1,
      "outputs": [
        {
          "output_type": "stream",
          "name": "stdout",
          "text": [
            "Downloading...\n",
            "From: https://drive.google.com/uc?id=1dx2Hw8873hJ1nZIgnDxwjqXezYUb3jSP\n",
            "To: /content/DJIA_table.csv\n",
            "\r  0% 0.00/167k [00:00<?, ?B/s]\r100% 167k/167k [00:00<00:00, 9.04MB/s]\n"
          ]
        }
      ]
    },
    {
      "cell_type": "code",
      "source": [
        "!gdown 12oMFU-mFRbndrHRAWhsW6vNqTHIaSjY7"
      ],
      "metadata": {
        "id": "625bozJF_cXP",
        "outputId": "b4b1e818-2f69-40ae-be4a-f73b3adcb05e",
        "colab": {
          "base_uri": "https://localhost:8080/"
        }
      },
      "execution_count": 2,
      "outputs": [
        {
          "output_type": "stream",
          "name": "stdout",
          "text": [
            "Downloading...\n",
            "From: https://drive.google.com/uc?id=12oMFU-mFRbndrHRAWhsW6vNqTHIaSjY7\n",
            "To: /content/RedditNews.csv\n",
            "\r  0% 0.00/9.10M [00:00<?, ?B/s]\r 12% 1.05M/9.10M [00:00<00:00, 8.79MB/s]\r100% 9.10M/9.10M [00:00<00:00, 47.7MB/s]\n"
          ]
        }
      ]
    },
    {
      "cell_type": "code",
      "execution_count": 3,
      "metadata": {
        "id": "lO8Q5zwaOVm4"
      },
      "outputs": [],
      "source": [
        "import pandas as pd"
      ]
    },
    {
      "cell_type": "code",
      "source": [
        "data_djia = pd.read_csv('DJIA_table.csv')"
      ],
      "metadata": {
        "id": "gPYl2OWAPqxG"
      },
      "execution_count": 4,
      "outputs": []
    },
    {
      "cell_type": "code",
      "source": [
        "data_reddit = pd.read_csv('RedditNews.csv')"
      ],
      "metadata": {
        "id": "sJBNGujHPxYe"
      },
      "execution_count": 5,
      "outputs": []
    },
    {
      "cell_type": "code",
      "source": [
        "data_reddit = data_reddit.groupby('Date').agg({'News':' '.join}).reset_index()"
      ],
      "metadata": {
        "id": "FYNfA8GTRuyp"
      },
      "execution_count": 6,
      "outputs": []
    },
    {
      "cell_type": "code",
      "source": [
        "data = pd.merge(data_djia, data_reddit, on='Date')"
      ],
      "metadata": {
        "id": "l94iiL7oScsK"
      },
      "execution_count": 7,
      "outputs": []
    },
    {
      "cell_type": "code",
      "source": [
        "data['Date'] = pd.to_datetime(data['Date'])\n",
        "data = data.set_index('Date')\n",
        "data = data.sort_index()"
      ],
      "metadata": {
        "id": "jD8KqCouWD7h"
      },
      "execution_count": 8,
      "outputs": []
    },
    {
      "cell_type": "code",
      "source": [
        "col_features = data.drop(columns='News').columns"
      ],
      "metadata": {
        "id": "UnHF3ndzcVhe"
      },
      "execution_count": 9,
      "outputs": []
    },
    {
      "cell_type": "code",
      "source": [
        "lag = 5\n",
        "for i in range(1, lag+1):\n",
        "  for col in col_features:\n",
        "    data[f'{col}_prev_{i}'] = data[col].shift(i)"
      ],
      "metadata": {
        "id": "z8AqLKL3T7Ry"
      },
      "execution_count": 10,
      "outputs": []
    },
    {
      "cell_type": "code",
      "source": [
        "data['NewsPrev'] = data['News'].shift(1)"
      ],
      "metadata": {
        "id": "D5YNp-pTVHt6"
      },
      "execution_count": 11,
      "outputs": []
    },
    {
      "cell_type": "code",
      "source": [
        "data.head(3)"
      ],
      "metadata": {
        "colab": {
          "base_uri": "https://localhost:8080/",
          "height": 485
        },
        "id": "XgDy6rAUVEKC",
        "outputId": "97863bd0-06cf-4907-cbef-2c9944031698"
      },
      "execution_count": 12,
      "outputs": [
        {
          "output_type": "execute_result",
          "data": {
            "text/plain": [
              "                    Open          High           Low         Close     Volume  \\\n",
              "Date                                                                            \n",
              "2008-08-08  11432.089844  11759.959961  11388.040039  11734.320312  212830000   \n",
              "2008-08-11  11729.669922  11867.110352  11675.530273  11782.349609  183190000   \n",
              "2008-08-12  11781.700195  11782.349609  11601.519531  11642.469727  173590000   \n",
              "\n",
              "               Adj Close                                               News  \\\n",
              "Date                                                                          \n",
              "2008-08-08  11734.320312  b\"Georgia 'downs two Russian warplanes' as cou...   \n",
              "2008-08-11  11782.349609  b'Why wont America and Nato help us? If they w...   \n",
              "2008-08-12  11642.469727  b'Remember that adorable 9-year-old who sang a...   \n",
              "\n",
              "             Open_prev_1   High_prev_1    Low_prev_1  ...  Close_prev_4  \\\n",
              "Date                                                  ...                 \n",
              "2008-08-08           NaN           NaN           NaN  ...           NaN   \n",
              "2008-08-11  11432.089844  11759.959961  11388.040039  ...           NaN   \n",
              "2008-08-12  11729.669922  11867.110352  11675.530273  ...           NaN   \n",
              "\n",
              "            Volume_prev_4  Adj Close_prev_4  Open_prev_5  High_prev_5  \\\n",
              "Date                                                                    \n",
              "2008-08-08            NaN               NaN          NaN          NaN   \n",
              "2008-08-11            NaN               NaN          NaN          NaN   \n",
              "2008-08-12            NaN               NaN          NaN          NaN   \n",
              "\n",
              "            Low_prev_5  Close_prev_5  Volume_prev_5  Adj Close_prev_5  \\\n",
              "Date                                                                    \n",
              "2008-08-08         NaN           NaN            NaN               NaN   \n",
              "2008-08-11         NaN           NaN            NaN               NaN   \n",
              "2008-08-12         NaN           NaN            NaN               NaN   \n",
              "\n",
              "                                                     NewsPrev  \n",
              "Date                                                           \n",
              "2008-08-08                                               None  \n",
              "2008-08-11  b\"Georgia 'downs two Russian warplanes' as cou...  \n",
              "2008-08-12  b'Why wont America and Nato help us? If they w...  \n",
              "\n",
              "[3 rows x 38 columns]"
            ],
            "text/html": [
              "\n",
              "  <div id=\"df-82f961af-b95f-407b-ab39-7f3b6dab5faf\" class=\"colab-df-container\">\n",
              "    <div>\n",
              "<style scoped>\n",
              "    .dataframe tbody tr th:only-of-type {\n",
              "        vertical-align: middle;\n",
              "    }\n",
              "\n",
              "    .dataframe tbody tr th {\n",
              "        vertical-align: top;\n",
              "    }\n",
              "\n",
              "    .dataframe thead th {\n",
              "        text-align: right;\n",
              "    }\n",
              "</style>\n",
              "<table border=\"1\" class=\"dataframe\">\n",
              "  <thead>\n",
              "    <tr style=\"text-align: right;\">\n",
              "      <th></th>\n",
              "      <th>Open</th>\n",
              "      <th>High</th>\n",
              "      <th>Low</th>\n",
              "      <th>Close</th>\n",
              "      <th>Volume</th>\n",
              "      <th>Adj Close</th>\n",
              "      <th>News</th>\n",
              "      <th>Open_prev_1</th>\n",
              "      <th>High_prev_1</th>\n",
              "      <th>Low_prev_1</th>\n",
              "      <th>...</th>\n",
              "      <th>Close_prev_4</th>\n",
              "      <th>Volume_prev_4</th>\n",
              "      <th>Adj Close_prev_4</th>\n",
              "      <th>Open_prev_5</th>\n",
              "      <th>High_prev_5</th>\n",
              "      <th>Low_prev_5</th>\n",
              "      <th>Close_prev_5</th>\n",
              "      <th>Volume_prev_5</th>\n",
              "      <th>Adj Close_prev_5</th>\n",
              "      <th>NewsPrev</th>\n",
              "    </tr>\n",
              "    <tr>\n",
              "      <th>Date</th>\n",
              "      <th></th>\n",
              "      <th></th>\n",
              "      <th></th>\n",
              "      <th></th>\n",
              "      <th></th>\n",
              "      <th></th>\n",
              "      <th></th>\n",
              "      <th></th>\n",
              "      <th></th>\n",
              "      <th></th>\n",
              "      <th></th>\n",
              "      <th></th>\n",
              "      <th></th>\n",
              "      <th></th>\n",
              "      <th></th>\n",
              "      <th></th>\n",
              "      <th></th>\n",
              "      <th></th>\n",
              "      <th></th>\n",
              "      <th></th>\n",
              "      <th></th>\n",
              "    </tr>\n",
              "  </thead>\n",
              "  <tbody>\n",
              "    <tr>\n",
              "      <th>2008-08-08</th>\n",
              "      <td>11432.089844</td>\n",
              "      <td>11759.959961</td>\n",
              "      <td>11388.040039</td>\n",
              "      <td>11734.320312</td>\n",
              "      <td>212830000</td>\n",
              "      <td>11734.320312</td>\n",
              "      <td>b\"Georgia 'downs two Russian warplanes' as cou...</td>\n",
              "      <td>NaN</td>\n",
              "      <td>NaN</td>\n",
              "      <td>NaN</td>\n",
              "      <td>...</td>\n",
              "      <td>NaN</td>\n",
              "      <td>NaN</td>\n",
              "      <td>NaN</td>\n",
              "      <td>NaN</td>\n",
              "      <td>NaN</td>\n",
              "      <td>NaN</td>\n",
              "      <td>NaN</td>\n",
              "      <td>NaN</td>\n",
              "      <td>NaN</td>\n",
              "      <td>None</td>\n",
              "    </tr>\n",
              "    <tr>\n",
              "      <th>2008-08-11</th>\n",
              "      <td>11729.669922</td>\n",
              "      <td>11867.110352</td>\n",
              "      <td>11675.530273</td>\n",
              "      <td>11782.349609</td>\n",
              "      <td>183190000</td>\n",
              "      <td>11782.349609</td>\n",
              "      <td>b'Why wont America and Nato help us? If they w...</td>\n",
              "      <td>11432.089844</td>\n",
              "      <td>11759.959961</td>\n",
              "      <td>11388.040039</td>\n",
              "      <td>...</td>\n",
              "      <td>NaN</td>\n",
              "      <td>NaN</td>\n",
              "      <td>NaN</td>\n",
              "      <td>NaN</td>\n",
              "      <td>NaN</td>\n",
              "      <td>NaN</td>\n",
              "      <td>NaN</td>\n",
              "      <td>NaN</td>\n",
              "      <td>NaN</td>\n",
              "      <td>b\"Georgia 'downs two Russian warplanes' as cou...</td>\n",
              "    </tr>\n",
              "    <tr>\n",
              "      <th>2008-08-12</th>\n",
              "      <td>11781.700195</td>\n",
              "      <td>11782.349609</td>\n",
              "      <td>11601.519531</td>\n",
              "      <td>11642.469727</td>\n",
              "      <td>173590000</td>\n",
              "      <td>11642.469727</td>\n",
              "      <td>b'Remember that adorable 9-year-old who sang a...</td>\n",
              "      <td>11729.669922</td>\n",
              "      <td>11867.110352</td>\n",
              "      <td>11675.530273</td>\n",
              "      <td>...</td>\n",
              "      <td>NaN</td>\n",
              "      <td>NaN</td>\n",
              "      <td>NaN</td>\n",
              "      <td>NaN</td>\n",
              "      <td>NaN</td>\n",
              "      <td>NaN</td>\n",
              "      <td>NaN</td>\n",
              "      <td>NaN</td>\n",
              "      <td>NaN</td>\n",
              "      <td>b'Why wont America and Nato help us? If they w...</td>\n",
              "    </tr>\n",
              "  </tbody>\n",
              "</table>\n",
              "<p>3 rows × 38 columns</p>\n",
              "</div>\n",
              "    <div class=\"colab-df-buttons\">\n",
              "\n",
              "  <div class=\"colab-df-container\">\n",
              "    <button class=\"colab-df-convert\" onclick=\"convertToInteractive('df-82f961af-b95f-407b-ab39-7f3b6dab5faf')\"\n",
              "            title=\"Convert this dataframe to an interactive table.\"\n",
              "            style=\"display:none;\">\n",
              "\n",
              "  <svg xmlns=\"http://www.w3.org/2000/svg\" height=\"24px\" viewBox=\"0 -960 960 960\">\n",
              "    <path d=\"M120-120v-720h720v720H120Zm60-500h600v-160H180v160Zm220 220h160v-160H400v160Zm0 220h160v-160H400v160ZM180-400h160v-160H180v160Zm440 0h160v-160H620v160ZM180-180h160v-160H180v160Zm440 0h160v-160H620v160Z\"/>\n",
              "  </svg>\n",
              "    </button>\n",
              "\n",
              "  <style>\n",
              "    .colab-df-container {\n",
              "      display:flex;\n",
              "      gap: 12px;\n",
              "    }\n",
              "\n",
              "    .colab-df-convert {\n",
              "      background-color: #E8F0FE;\n",
              "      border: none;\n",
              "      border-radius: 50%;\n",
              "      cursor: pointer;\n",
              "      display: none;\n",
              "      fill: #1967D2;\n",
              "      height: 32px;\n",
              "      padding: 0 0 0 0;\n",
              "      width: 32px;\n",
              "    }\n",
              "\n",
              "    .colab-df-convert:hover {\n",
              "      background-color: #E2EBFA;\n",
              "      box-shadow: 0px 1px 2px rgba(60, 64, 67, 0.3), 0px 1px 3px 1px rgba(60, 64, 67, 0.15);\n",
              "      fill: #174EA6;\n",
              "    }\n",
              "\n",
              "    .colab-df-buttons div {\n",
              "      margin-bottom: 4px;\n",
              "    }\n",
              "\n",
              "    [theme=dark] .colab-df-convert {\n",
              "      background-color: #3B4455;\n",
              "      fill: #D2E3FC;\n",
              "    }\n",
              "\n",
              "    [theme=dark] .colab-df-convert:hover {\n",
              "      background-color: #434B5C;\n",
              "      box-shadow: 0px 1px 3px 1px rgba(0, 0, 0, 0.15);\n",
              "      filter: drop-shadow(0px 1px 2px rgba(0, 0, 0, 0.3));\n",
              "      fill: #FFFFFF;\n",
              "    }\n",
              "  </style>\n",
              "\n",
              "    <script>\n",
              "      const buttonEl =\n",
              "        document.querySelector('#df-82f961af-b95f-407b-ab39-7f3b6dab5faf button.colab-df-convert');\n",
              "      buttonEl.style.display =\n",
              "        google.colab.kernel.accessAllowed ? 'block' : 'none';\n",
              "\n",
              "      async function convertToInteractive(key) {\n",
              "        const element = document.querySelector('#df-82f961af-b95f-407b-ab39-7f3b6dab5faf');\n",
              "        const dataTable =\n",
              "          await google.colab.kernel.invokeFunction('convertToInteractive',\n",
              "                                                    [key], {});\n",
              "        if (!dataTable) return;\n",
              "\n",
              "        const docLinkHtml = 'Like what you see? Visit the ' +\n",
              "          '<a target=\"_blank\" href=https://colab.research.google.com/notebooks/data_table.ipynb>data table notebook</a>'\n",
              "          + ' to learn more about interactive tables.';\n",
              "        element.innerHTML = '';\n",
              "        dataTable['output_type'] = 'display_data';\n",
              "        await google.colab.output.renderOutput(dataTable, element);\n",
              "        const docLink = document.createElement('div');\n",
              "        docLink.innerHTML = docLinkHtml;\n",
              "        element.appendChild(docLink);\n",
              "      }\n",
              "    </script>\n",
              "  </div>\n",
              "\n",
              "\n",
              "<div id=\"df-ef2b7475-d09e-4c10-886d-e3ed6d3ebf8c\">\n",
              "  <button class=\"colab-df-quickchart\" onclick=\"quickchart('df-ef2b7475-d09e-4c10-886d-e3ed6d3ebf8c')\"\n",
              "            title=\"Suggest charts\"\n",
              "            style=\"display:none;\">\n",
              "\n",
              "<svg xmlns=\"http://www.w3.org/2000/svg\" height=\"24px\"viewBox=\"0 0 24 24\"\n",
              "     width=\"24px\">\n",
              "    <g>\n",
              "        <path d=\"M19 3H5c-1.1 0-2 .9-2 2v14c0 1.1.9 2 2 2h14c1.1 0 2-.9 2-2V5c0-1.1-.9-2-2-2zM9 17H7v-7h2v7zm4 0h-2V7h2v10zm4 0h-2v-4h2v4z\"/>\n",
              "    </g>\n",
              "</svg>\n",
              "  </button>\n",
              "\n",
              "<style>\n",
              "  .colab-df-quickchart {\n",
              "      --bg-color: #E8F0FE;\n",
              "      --fill-color: #1967D2;\n",
              "      --hover-bg-color: #E2EBFA;\n",
              "      --hover-fill-color: #174EA6;\n",
              "      --disabled-fill-color: #AAA;\n",
              "      --disabled-bg-color: #DDD;\n",
              "  }\n",
              "\n",
              "  [theme=dark] .colab-df-quickchart {\n",
              "      --bg-color: #3B4455;\n",
              "      --fill-color: #D2E3FC;\n",
              "      --hover-bg-color: #434B5C;\n",
              "      --hover-fill-color: #FFFFFF;\n",
              "      --disabled-bg-color: #3B4455;\n",
              "      --disabled-fill-color: #666;\n",
              "  }\n",
              "\n",
              "  .colab-df-quickchart {\n",
              "    background-color: var(--bg-color);\n",
              "    border: none;\n",
              "    border-radius: 50%;\n",
              "    cursor: pointer;\n",
              "    display: none;\n",
              "    fill: var(--fill-color);\n",
              "    height: 32px;\n",
              "    padding: 0;\n",
              "    width: 32px;\n",
              "  }\n",
              "\n",
              "  .colab-df-quickchart:hover {\n",
              "    background-color: var(--hover-bg-color);\n",
              "    box-shadow: 0 1px 2px rgba(60, 64, 67, 0.3), 0 1px 3px 1px rgba(60, 64, 67, 0.15);\n",
              "    fill: var(--button-hover-fill-color);\n",
              "  }\n",
              "\n",
              "  .colab-df-quickchart-complete:disabled,\n",
              "  .colab-df-quickchart-complete:disabled:hover {\n",
              "    background-color: var(--disabled-bg-color);\n",
              "    fill: var(--disabled-fill-color);\n",
              "    box-shadow: none;\n",
              "  }\n",
              "\n",
              "  .colab-df-spinner {\n",
              "    border: 2px solid var(--fill-color);\n",
              "    border-color: transparent;\n",
              "    border-bottom-color: var(--fill-color);\n",
              "    animation:\n",
              "      spin 1s steps(1) infinite;\n",
              "  }\n",
              "\n",
              "  @keyframes spin {\n",
              "    0% {\n",
              "      border-color: transparent;\n",
              "      border-bottom-color: var(--fill-color);\n",
              "      border-left-color: var(--fill-color);\n",
              "    }\n",
              "    20% {\n",
              "      border-color: transparent;\n",
              "      border-left-color: var(--fill-color);\n",
              "      border-top-color: var(--fill-color);\n",
              "    }\n",
              "    30% {\n",
              "      border-color: transparent;\n",
              "      border-left-color: var(--fill-color);\n",
              "      border-top-color: var(--fill-color);\n",
              "      border-right-color: var(--fill-color);\n",
              "    }\n",
              "    40% {\n",
              "      border-color: transparent;\n",
              "      border-right-color: var(--fill-color);\n",
              "      border-top-color: var(--fill-color);\n",
              "    }\n",
              "    60% {\n",
              "      border-color: transparent;\n",
              "      border-right-color: var(--fill-color);\n",
              "    }\n",
              "    80% {\n",
              "      border-color: transparent;\n",
              "      border-right-color: var(--fill-color);\n",
              "      border-bottom-color: var(--fill-color);\n",
              "    }\n",
              "    90% {\n",
              "      border-color: transparent;\n",
              "      border-bottom-color: var(--fill-color);\n",
              "    }\n",
              "  }\n",
              "</style>\n",
              "\n",
              "  <script>\n",
              "    async function quickchart(key) {\n",
              "      const quickchartButtonEl =\n",
              "        document.querySelector('#' + key + ' button');\n",
              "      quickchartButtonEl.disabled = true;  // To prevent multiple clicks.\n",
              "      quickchartButtonEl.classList.add('colab-df-spinner');\n",
              "      try {\n",
              "        const charts = await google.colab.kernel.invokeFunction(\n",
              "            'suggestCharts', [key], {});\n",
              "      } catch (error) {\n",
              "        console.error('Error during call to suggestCharts:', error);\n",
              "      }\n",
              "      quickchartButtonEl.classList.remove('colab-df-spinner');\n",
              "      quickchartButtonEl.classList.add('colab-df-quickchart-complete');\n",
              "    }\n",
              "    (() => {\n",
              "      let quickchartButtonEl =\n",
              "        document.querySelector('#df-ef2b7475-d09e-4c10-886d-e3ed6d3ebf8c button');\n",
              "      quickchartButtonEl.style.display =\n",
              "        google.colab.kernel.accessAllowed ? 'block' : 'none';\n",
              "    })();\n",
              "  </script>\n",
              "</div>\n",
              "    </div>\n",
              "  </div>\n"
            ],
            "application/vnd.google.colaboratory.intrinsic+json": {
              "type": "dataframe",
              "variable_name": "data"
            }
          },
          "metadata": {},
          "execution_count": 12
        }
      ]
    },
    {
      "cell_type": "code",
      "source": [
        "data = data.dropna(axis=0)"
      ],
      "metadata": {
        "id": "aOewv0ZjVSbB"
      },
      "execution_count": 13,
      "outputs": []
    },
    {
      "cell_type": "code",
      "source": [
        "data['num_words'] = data['NewsPrev'].apply(lambda x: len(x.split(\" \")))"
      ],
      "metadata": {
        "id": "lpViF16bVVbh",
        "colab": {
          "base_uri": "https://localhost:8080/"
        },
        "outputId": "af85cdba-d219-43e1-da4c-1983afb68177"
      },
      "execution_count": 14,
      "outputs": [
        {
          "output_type": "stream",
          "name": "stderr",
          "text": [
            "<ipython-input-14-803859bb11c5>:1: SettingWithCopyWarning: \n",
            "A value is trying to be set on a copy of a slice from a DataFrame.\n",
            "Try using .loc[row_indexer,col_indexer] = value instead\n",
            "\n",
            "See the caveats in the documentation: https://pandas.pydata.org/pandas-docs/stable/user_guide/indexing.html#returning-a-view-versus-a-copy\n",
            "  data['num_words'] = data['NewsPrev'].apply(lambda x: len(x.split(\" \")))\n"
          ]
        }
      ]
    },
    {
      "cell_type": "code",
      "source": [
        "data['num_words'].plot.hist()"
      ],
      "metadata": {
        "colab": {
          "base_uri": "https://localhost:8080/",
          "height": 448
        },
        "id": "5wz6ULW5WnXp",
        "outputId": "b0b70113-605d-430c-a5f5-fa25a35b0be1"
      },
      "execution_count": 15,
      "outputs": [
        {
          "output_type": "execute_result",
          "data": {
            "text/plain": [
              "<Axes: ylabel='Frequency'>"
            ]
          },
          "metadata": {},
          "execution_count": 15
        },
        {
          "output_type": "display_data",
          "data": {
            "text/plain": [
              "<Figure size 640x480 with 1 Axes>"
            ],
            "image/png": "[encoded data removed]"
          },
          "metadata": {}
        }
      ]
    },
    {
      "cell_type": "code",
      "source": [
        "from sklearn.model_selection import train_test_split\n",
        "from keras.preprocessing.text import Tokenizer\n",
        "from keras.preprocessing import sequence\n",
        "import matplotlib.pyplot as plt\n",
        "import seaborn as sns\n",
        "import numpy as np"
      ],
      "metadata": {
        "id": "NHjdKkGJWt3R"
      },
      "execution_count": 16,
      "outputs": []
    },
    {
      "cell_type": "code",
      "source": [
        "vocabulary = 600"
      ],
      "metadata": {
        "id": "2m4zGYAYsYzb"
      },
      "execution_count": 17,
      "outputs": []
    },
    {
      "cell_type": "code",
      "source": [
        "data = data.drop(columns=['Open', 'High', 'Low', 'Volume', 'Adj Close', 'News', 'num_words'])"
      ],
      "metadata": {
        "id": "l29x0j4GJEu9"
      },
      "execution_count": 18,
      "outputs": []
    },
    {
      "cell_type": "code",
      "source": [
        "features = list(data.drop(columns=['Close']).columns)\n",
        "features"
      ],
      "metadata": {
        "colab": {
          "base_uri": "https://localhost:8080/"
        },
        "id": "3W9iNZLQKPxR",
        "outputId": "8ec0323e-f5c0-406d-e530-f0db7da402cb"
      },
      "execution_count": 19,
      "outputs": [
        {
          "output_type": "execute_result",
          "data": {
            "text/plain": [
              "['Open_prev_1',\n",
              " 'High_prev_1',\n",
              " 'Low_prev_1',\n",
              " 'Close_prev_1',\n",
              " 'Volume_prev_1',\n",
              " 'Adj Close_prev_1',\n",
              " 'Open_prev_2',\n",
              " 'High_prev_2',\n",
              " 'Low_prev_2',\n",
              " 'Close_prev_2',\n",
              " 'Volume_prev_2',\n",
              " 'Adj Close_prev_2',\n",
              " 'Open_prev_3',\n",
              " 'High_prev_3',\n",
              " 'Low_prev_3',\n",
              " 'Close_prev_3',\n",
              " 'Volume_prev_3',\n",
              " 'Adj Close_prev_3',\n",
              " 'Open_prev_4',\n",
              " 'High_prev_4',\n",
              " 'Low_prev_4',\n",
              " 'Close_prev_4',\n",
              " 'Volume_prev_4',\n",
              " 'Adj Close_prev_4',\n",
              " 'Open_prev_5',\n",
              " 'High_prev_5',\n",
              " 'Low_prev_5',\n",
              " 'Close_prev_5',\n",
              " 'Volume_prev_5',\n",
              " 'Adj Close_prev_5',\n",
              " 'NewsPrev']"
            ]
          },
          "metadata": {},
          "execution_count": 19
        }
      ]
    },
    {
      "cell_type": "code",
      "source": [
        "x, y = data[features], data['Close']"
      ],
      "metadata": {
        "id": "tkewSWpWYFOI"
      },
      "execution_count": 20,
      "outputs": []
    },
    {
      "cell_type": "code",
      "source": [
        "x_train, x_test, y_train, y_test = train_test_split(x, y, test_size=0.2, shuffle=False)"
      ],
      "metadata": {
        "id": "OaFS8XYiYiWQ"
      },
      "execution_count": 21,
      "outputs": []
    },
    {
      "cell_type": "code",
      "source": [
        "tokenizer = Tokenizer(num_words=vocabulary)\n",
        "tokenizer.fit_on_texts(x_train['NewsPrev'].values)\n",
        "x_train['NewsPrev'] = tokenizer.texts_to_sequences(x_train['NewsPrev'])\n",
        "x_test['NewsPrev'] = tokenizer.texts_to_sequences(x_test['NewsPrev'])"
      ],
      "metadata": {
        "id": "2vDbPw8bYuEg"
      },
      "execution_count": 22,
      "outputs": []
    },
    {
      "cell_type": "code",
      "source": [
        "len_tokens = [len(token_list) for token_list in x_train['NewsPrev']]\n",
        "plt.hist(len_tokens)"
      ],
      "metadata": {
        "colab": {
          "base_uri": "https://localhost:8080/",
          "height": 501
        },
        "id": "3jRyTfQwZ77E",
        "outputId": "732abfd5-ecf5-4a02-c766-bb662bc7ec4a"
      },
      "execution_count": 23,
      "outputs": [
        {
          "output_type": "execute_result",
          "data": {
            "text/plain": [
              "(array([ 15.,  49., 143., 317., 434., 343., 212.,  56.,  14.,   4.]),\n",
              " array([107. , 140.3, 173.6, 206.9, 240.2, 273.5, 306.8, 340.1, 373.4,\n",
              "        406.7, 440. ]),\n",
              " <BarContainer object of 10 artists>)"
            ]
          },
          "metadata": {},
          "execution_count": 23
        },
        {
          "output_type": "display_data",
          "data": {
            "text/plain": [
              "<Figure size 640x480 with 1 Axes>"
            ],
            "image/png": "[encoded data removed]"
          },
          "metadata": {}
        }
      ]
    },
    {
      "cell_type": "code",
      "source": [
        "max_token_length = 380"
      ],
      "metadata": {
        "id": "vHL1ojNdt5fd"
      },
      "execution_count": 24,
      "outputs": []
    },
    {
      "cell_type": "code",
      "source": [
        "news_train = sequence.pad_sequences(x_train['NewsPrev'], maxlen=max_token_length)\n",
        "news_test = sequence.pad_sequences(x_test['NewsPrev'], maxlen=max_token_length)"
      ],
      "metadata": {
        "id": "9c9L6JwHZAIg"
      },
      "execution_count": 25,
      "outputs": []
    },
    {
      "cell_type": "code",
      "source": [
        "nums_train = x_train.drop(columns=['NewsPrev'])\n",
        "nums_test = x_test.drop(columns=['NewsPrev'])"
      ],
      "metadata": {
        "id": "QzyD2zLFN54D"
      },
      "execution_count": 26,
      "outputs": []
    },
    {
      "cell_type": "code",
      "source": [
        "nums_train.head(3)"
      ],
      "metadata": {
        "colab": {
          "base_uri": "https://localhost:8080/",
          "height": 242
        },
        "id": "rT_jNMweOGib",
        "outputId": "dc7a2744-cd74-434e-a59f-29fce7508104"
      },
      "execution_count": 27,
      "outputs": [
        {
          "output_type": "execute_result",
          "data": {
            "text/plain": [
              "             Open_prev_1   High_prev_1    Low_prev_1  Close_prev_1  \\\n",
              "Date                                                                 \n",
              "2008-08-15  11532.070312  11718.280273  11450.889648  11615.929688   \n",
              "2008-08-18  11611.209961  11709.889648  11599.730469  11659.900391   \n",
              "2008-08-19  11659.650391  11690.429688  11434.120117  11479.389648   \n",
              "\n",
              "            Volume_prev_1  Adj Close_prev_1   Open_prev_2   High_prev_2  \\\n",
              "Date                                                                      \n",
              "2008-08-15    159790000.0      11615.929688  11632.809570  11633.780273   \n",
              "2008-08-18    215040000.0      11659.900391  11532.070312  11718.280273   \n",
              "2008-08-19    156290000.0      11479.389648  11611.209961  11709.889648   \n",
              "\n",
              "              Low_prev_2  Close_prev_2  ...    Low_prev_4  Close_prev_4  \\\n",
              "Date                                    ...                               \n",
              "2008-08-15  11453.339844  11532.959961  ...  11675.530273  11782.349609   \n",
              "2008-08-18  11450.889648  11615.929688  ...  11601.519531  11642.469727   \n",
              "2008-08-19  11599.730469  11659.900391  ...  11453.339844  11532.959961   \n",
              "\n",
              "            Volume_prev_4  Adj Close_prev_4   Open_prev_5   High_prev_5  \\\n",
              "Date                                                                      \n",
              "2008-08-15    183190000.0      11782.349609  11432.089844  11759.959961   \n",
              "2008-08-18    173590000.0      11642.469727  11729.669922  11867.110352   \n",
              "2008-08-19    182550000.0      11532.959961  11781.700195  11782.349609   \n",
              "\n",
              "              Low_prev_5  Close_prev_5  Volume_prev_5  Adj Close_prev_5  \n",
              "Date                                                                     \n",
              "2008-08-15  11388.040039  11734.320312    212830000.0      11734.320312  \n",
              "2008-08-18  11675.530273  11782.349609    183190000.0      11782.349609  \n",
              "2008-08-19  11601.519531  11642.469727    173590000.0      11642.469727  \n",
              "\n",
              "[3 rows x 30 columns]"
            ],
            "text/html": [
              "\n",
              "  <div id=\"df-b1086a70-e4dd-4f1f-9cf0-8a09204a6a7c\" class=\"colab-df-container\">\n",
              "    <div>\n",
              "<style scoped>\n",
              "    .dataframe tbody tr th:only-of-type {\n",
              "        vertical-align: middle;\n",
              "    }\n",
              "\n",
              "    .dataframe tbody tr th {\n",
              "        vertical-align: top;\n",
              "    }\n",
              "\n",
              "    .dataframe thead th {\n",
              "        text-align: right;\n",
              "    }\n",
              "</style>\n",
              "<table border=\"1\" class=\"dataframe\">\n",
              "  <thead>\n",
              "    <tr style=\"text-align: right;\">\n",
              "      <th></th>\n",
              "      <th>Open_prev_1</th>\n",
              "      <th>High_prev_1</th>\n",
              "      <th>Low_prev_1</th>\n",
              "      <th>Close_prev_1</th>\n",
              "      <th>Volume_prev_1</th>\n",
              "      <th>Adj Close_prev_1</th>\n",
              "      <th>Open_prev_2</th>\n",
              "      <th>High_prev_2</th>\n",
              "      <th>Low_prev_2</th>\n",
              "      <th>Close_prev_2</th>\n",
              "      <th>...</th>\n",
              "      <th>Low_prev_4</th>\n",
              "      <th>Close_prev_4</th>\n",
              "      <th>Volume_prev_4</th>\n",
              "      <th>Adj Close_prev_4</th>\n",
              "      <th>Open_prev_5</th>\n",
              "      <th>High_prev_5</th>\n",
              "      <th>Low_prev_5</th>\n",
              "      <th>Close_prev_5</th>\n",
              "      <th>Volume_prev_5</th>\n",
              "      <th>Adj Close_prev_5</th>\n",
              "    </tr>\n",
              "    <tr>\n",
              "      <th>Date</th>\n",
              "      <th></th>\n",
              "      <th></th>\n",
              "      <th></th>\n",
              "      <th></th>\n",
              "      <th></th>\n",
              "      <th></th>\n",
              "      <th></th>\n",
              "      <th></th>\n",
              "      <th></th>\n",
              "      <th></th>\n",
              "      <th></th>\n",
              "      <th></th>\n",
              "      <th></th>\n",
              "      <th></th>\n",
              "      <th></th>\n",
              "      <th></th>\n",
              "      <th></th>\n",
              "      <th></th>\n",
              "      <th></th>\n",
              "      <th></th>\n",
              "      <th></th>\n",
              "    </tr>\n",
              "  </thead>\n",
              "  <tbody>\n",
              "    <tr>\n",
              "      <th>2008-08-15</th>\n",
              "      <td>11532.070312</td>\n",
              "      <td>11718.280273</td>\n",
              "      <td>11450.889648</td>\n",
              "      <td>11615.929688</td>\n",
              "      <td>159790000.0</td>\n",
              "      <td>11615.929688</td>\n",
              "      <td>11632.809570</td>\n",
              "      <td>11633.780273</td>\n",
              "      <td>11453.339844</td>\n",
              "      <td>11532.959961</td>\n",
              "      <td>...</td>\n",
              "      <td>11675.530273</td>\n",
              "      <td>11782.349609</td>\n",
              "      <td>183190000.0</td>\n",
              "      <td>11782.349609</td>\n",
              "      <td>11432.089844</td>\n",
              "      <td>11759.959961</td>\n",
              "      <td>11388.040039</td>\n",
              "      <td>11734.320312</td>\n",
              "      <td>212830000.0</td>\n",
              "      <td>11734.320312</td>\n",
              "    </tr>\n",
              "    <tr>\n",
              "      <th>2008-08-18</th>\n",
              "      <td>11611.209961</td>\n",
              "      <td>11709.889648</td>\n",
              "      <td>11599.730469</td>\n",
              "      <td>11659.900391</td>\n",
              "      <td>215040000.0</td>\n",
              "      <td>11659.900391</td>\n",
              "      <td>11532.070312</td>\n",
              "      <td>11718.280273</td>\n",
              "      <td>11450.889648</td>\n",
              "      <td>11615.929688</td>\n",
              "      <td>...</td>\n",
              "      <td>11601.519531</td>\n",
              "      <td>11642.469727</td>\n",
              "      <td>173590000.0</td>\n",
              "      <td>11642.469727</td>\n",
              "      <td>11729.669922</td>\n",
              "      <td>11867.110352</td>\n",
              "      <td>11675.530273</td>\n",
              "      <td>11782.349609</td>\n",
              "      <td>183190000.0</td>\n",
              "      <td>11782.349609</td>\n",
              "    </tr>\n",
              "    <tr>\n",
              "      <th>2008-08-19</th>\n",
              "      <td>11659.650391</td>\n",
              "      <td>11690.429688</td>\n",
              "      <td>11434.120117</td>\n",
              "      <td>11479.389648</td>\n",
              "      <td>156290000.0</td>\n",
              "      <td>11479.389648</td>\n",
              "      <td>11611.209961</td>\n",
              "      <td>11709.889648</td>\n",
              "      <td>11599.730469</td>\n",
              "      <td>11659.900391</td>\n",
              "      <td>...</td>\n",
              "      <td>11453.339844</td>\n",
              "      <td>11532.959961</td>\n",
              "      <td>182550000.0</td>\n",
              "      <td>11532.959961</td>\n",
              "      <td>11781.700195</td>\n",
              "      <td>11782.349609</td>\n",
              "      <td>11601.519531</td>\n",
              "      <td>11642.469727</td>\n",
              "      <td>173590000.0</td>\n",
              "      <td>11642.469727</td>\n",
              "    </tr>\n",
              "  </tbody>\n",
              "</table>\n",
              "<p>3 rows × 30 columns</p>\n",
              "</div>\n",
              "    <div class=\"colab-df-buttons\">\n",
              "\n",
              "  <div class=\"colab-df-container\">\n",
              "    <button class=\"colab-df-convert\" onclick=\"convertToInteractive('df-b1086a70-e4dd-4f1f-9cf0-8a09204a6a7c')\"\n",
              "            title=\"Convert this dataframe to an interactive table.\"\n",
              "            style=\"display:none;\">\n",
              "\n",
              "  <svg xmlns=\"http://www.w3.org/2000/svg\" height=\"24px\" viewBox=\"0 -960 960 960\">\n",
              "    <path d=\"M120-120v-720h720v720H120Zm60-500h600v-160H180v160Zm220 220h160v-160H400v160Zm0 220h160v-160H400v160ZM180-400h160v-160H180v160Zm440 0h160v-160H620v160ZM180-180h160v-160H180v160Zm440 0h160v-160H620v160Z\"/>\n",
              "  </svg>\n",
              "    </button>\n",
              "\n",
              "  <style>\n",
              "    .colab-df-container {\n",
              "      display:flex;\n",
              "      gap: 12px;\n",
              "    }\n",
              "\n",
              "    .colab-df-convert {\n",
              "      background-color: #E8F0FE;\n",
              "      border: none;\n",
              "      border-radius: 50%;\n",
              "      cursor: pointer;\n",
              "      display: none;\n",
              "      fill: #1967D2;\n",
              "      height: 32px;\n",
              "      padding: 0 0 0 0;\n",
              "      width: 32px;\n",
              "    }\n",
              "\n",
              "    .colab-df-convert:hover {\n",
              "      background-color: #E2EBFA;\n",
              "      box-shadow: 0px 1px 2px rgba(60, 64, 67, 0.3), 0px 1px 3px 1px rgba(60, 64, 67, 0.15);\n",
              "      fill: #174EA6;\n",
              "    }\n",
              "\n",
              "    .colab-df-buttons div {\n",
              "      margin-bottom: 4px;\n",
              "    }\n",
              "\n",
              "    [theme=dark] .colab-df-convert {\n",
              "      background-color: #3B4455;\n",
              "      fill: #D2E3FC;\n",
              "    }\n",
              "\n",
              "    [theme=dark] .colab-df-convert:hover {\n",
              "      background-color: #434B5C;\n",
              "      box-shadow: 0px 1px 3px 1px rgba(0, 0, 0, 0.15);\n",
              "      filter: drop-shadow(0px 1px 2px rgba(0, 0, 0, 0.3));\n",
              "      fill: #FFFFFF;\n",
              "    }\n",
              "  </style>\n",
              "\n",
              "    <script>\n",
              "      const buttonEl =\n",
              "        document.querySelector('#df-b1086a70-e4dd-4f1f-9cf0-8a09204a6a7c button.colab-df-convert');\n",
              "      buttonEl.style.display =\n",
              "        google.colab.kernel.accessAllowed ? 'block' : 'none';\n",
              "\n",
              "      async function convertToInteractive(key) {\n",
              "        const element = document.querySelector('#df-b1086a70-e4dd-4f1f-9cf0-8a09204a6a7c');\n",
              "        const dataTable =\n",
              "          await google.colab.kernel.invokeFunction('convertToInteractive',\n",
              "                                                    [key], {});\n",
              "        if (!dataTable) return;\n",
              "\n",
              "        const docLinkHtml = 'Like what you see? Visit the ' +\n",
              "          '<a target=\"_blank\" href=https://colab.research.google.com/notebooks/data_table.ipynb>data table notebook</a>'\n",
              "          + ' to learn more about interactive tables.';\n",
              "        element.innerHTML = '';\n",
              "        dataTable['output_type'] = 'display_data';\n",
              "        await google.colab.output.renderOutput(dataTable, element);\n",
              "        const docLink = document.createElement('div');\n",
              "        docLink.innerHTML = docLinkHtml;\n",
              "        element.appendChild(docLink);\n",
              "      }\n",
              "    </script>\n",
              "  </div>\n",
              "\n",
              "\n",
              "<div id=\"df-1294d360-7ddd-430d-a197-abac6a3054e0\">\n",
              "  <button class=\"colab-df-quickchart\" onclick=\"quickchart('df-1294d360-7ddd-430d-a197-abac6a3054e0')\"\n",
              "            title=\"Suggest charts\"\n",
              "            style=\"display:none;\">\n",
              "\n",
              "<svg xmlns=\"http://www.w3.org/2000/svg\" height=\"24px\"viewBox=\"0 0 24 24\"\n",
              "     width=\"24px\">\n",
              "    <g>\n",
              "        <path d=\"M19 3H5c-1.1 0-2 .9-2 2v14c0 1.1.9 2 2 2h14c1.1 0 2-.9 2-2V5c0-1.1-.9-2-2-2zM9 17H7v-7h2v7zm4 0h-2V7h2v10zm4 0h-2v-4h2v4z\"/>\n",
              "    </g>\n",
              "</svg>\n",
              "  </button>\n",
              "\n",
              "<style>\n",
              "  .colab-df-quickchart {\n",
              "      --bg-color: #E8F0FE;\n",
              "      --fill-color: #1967D2;\n",
              "      --hover-bg-color: #E2EBFA;\n",
              "      --hover-fill-color: #174EA6;\n",
              "      --disabled-fill-color: #AAA;\n",
              "      --disabled-bg-color: #DDD;\n",
              "  }\n",
              "\n",
              "  [theme=dark] .colab-df-quickchart {\n",
              "      --bg-color: #3B4455;\n",
              "      --fill-color: #D2E3FC;\n",
              "      --hover-bg-color: #434B5C;\n",
              "      --hover-fill-color: #FFFFFF;\n",
              "      --disabled-bg-color: #3B4455;\n",
              "      --disabled-fill-color: #666;\n",
              "  }\n",
              "\n",
              "  .colab-df-quickchart {\n",
              "    background-color: var(--bg-color);\n",
              "    border: none;\n",
              "    border-radius: 50%;\n",
              "    cursor: pointer;\n",
              "    display: none;\n",
              "    fill: var(--fill-color);\n",
              "    height: 32px;\n",
              "    padding: 0;\n",
              "    width: 32px;\n",
              "  }\n",
              "\n",
              "  .colab-df-quickchart:hover {\n",
              "    background-color: var(--hover-bg-color);\n",
              "    box-shadow: 0 1px 2px rgba(60, 64, 67, 0.3), 0 1px 3px 1px rgba(60, 64, 67, 0.15);\n",
              "    fill: var(--button-hover-fill-color);\n",
              "  }\n",
              "\n",
              "  .colab-df-quickchart-complete:disabled,\n",
              "  .colab-df-quickchart-complete:disabled:hover {\n",
              "    background-color: var(--disabled-bg-color);\n",
              "    fill: var(--disabled-fill-color);\n",
              "    box-shadow: none;\n",
              "  }\n",
              "\n",
              "  .colab-df-spinner {\n",
              "    border: 2px solid var(--fill-color);\n",
              "    border-color: transparent;\n",
              "    border-bottom-color: var(--fill-color);\n",
              "    animation:\n",
              "      spin 1s steps(1) infinite;\n",
              "  }\n",
              "\n",
              "  @keyframes spin {\n",
              "    0% {\n",
              "      border-color: transparent;\n",
              "      border-bottom-color: var(--fill-color);\n",
              "      border-left-color: var(--fill-color);\n",
              "    }\n",
              "    20% {\n",
              "      border-color: transparent;\n",
              "      border-left-color: var(--fill-color);\n",
              "      border-top-color: var(--fill-color);\n",
              "    }\n",
              "    30% {\n",
              "      border-color: transparent;\n",
              "      border-left-color: var(--fill-color);\n",
              "      border-top-color: var(--fill-color);\n",
              "      border-right-color: var(--fill-color);\n",
              "    }\n",
              "    40% {\n",
              "      border-color: transparent;\n",
              "      border-right-color: var(--fill-color);\n",
              "      border-top-color: var(--fill-color);\n",
              "    }\n",
              "    60% {\n",
              "      border-color: transparent;\n",
              "      border-right-color: var(--fill-color);\n",
              "    }\n",
              "    80% {\n",
              "      border-color: transparent;\n",
              "      border-right-color: var(--fill-color);\n",
              "      border-bottom-color: var(--fill-color);\n",
              "    }\n",
              "    90% {\n",
              "      border-color: transparent;\n",
              "      border-bottom-color: var(--fill-color);\n",
              "    }\n",
              "  }\n",
              "</style>\n",
              "\n",
              "  <script>\n",
              "    async function quickchart(key) {\n",
              "      const quickchartButtonEl =\n",
              "        document.querySelector('#' + key + ' button');\n",
              "      quickchartButtonEl.disabled = true;  // To prevent multiple clicks.\n",
              "      quickchartButtonEl.classList.add('colab-df-spinner');\n",
              "      try {\n",
              "        const charts = await google.colab.kernel.invokeFunction(\n",
              "            'suggestCharts', [key], {});\n",
              "      } catch (error) {\n",
              "        console.error('Error during call to suggestCharts:', error);\n",
              "      }\n",
              "      quickchartButtonEl.classList.remove('colab-df-spinner');\n",
              "      quickchartButtonEl.classList.add('colab-df-quickchart-complete');\n",
              "    }\n",
              "    (() => {\n",
              "      let quickchartButtonEl =\n",
              "        document.querySelector('#df-1294d360-7ddd-430d-a197-abac6a3054e0 button');\n",
              "      quickchartButtonEl.style.display =\n",
              "        google.colab.kernel.accessAllowed ? 'block' : 'none';\n",
              "    })();\n",
              "  </script>\n",
              "</div>\n",
              "    </div>\n",
              "  </div>\n"
            ],
            "application/vnd.google.colaboratory.intrinsic+json": {
              "type": "dataframe",
              "variable_name": "nums_train"
            }
          },
          "metadata": {},
          "execution_count": 27
        }
      ]
    },
    {
      "cell_type": "code",
      "source": [
        "from sklearn.preprocessing import MinMaxScaler\n",
        "scaler = MinMaxScaler()\n",
        "scaler.fit(nums_train)\n",
        "nums_train = scaler.transform(nums_train)\n",
        "nums_test = scaler.transform(nums_test)\n",
        "y_train = scaler.fit_transform(y_train.values.reshape(-1,1))"
      ],
      "metadata": {
        "id": "y1x9rxhSdcRs"
      },
      "execution_count": 28,
      "outputs": []
    },
    {
      "cell_type": "code",
      "source": [
        "from keras.models import Sequential\n",
        "import keras\n",
        "from keras.layers import Dense, Embedding, Conv1D, MaxPooling1D, LSTM, Flatten, Dropout\n",
        "from sklearn.metrics import confusion_matrix, classification_report\n",
        "from keras.models import Model\n",
        "from keras.layers import Input, Embedding, LSTM, Dense, concatenate"
      ],
      "metadata": {
        "id": "bmCi-R9daGPI"
      },
      "execution_count": 29,
      "outputs": []
    },
    {
      "cell_type": "code",
      "source": [
        "nums_train.shape"
      ],
      "metadata": {
        "colab": {
          "base_uri": "https://localhost:8080/"
        },
        "id": "5HbfTym7v-dS",
        "outputId": "994cd4a3-40a8-43c7-821f-00521bef64ce"
      },
      "execution_count": 30,
      "outputs": [
        {
          "output_type": "execute_result",
          "data": {
            "text/plain": [
              "(1587, 30)"
            ]
          },
          "metadata": {},
          "execution_count": 30
        }
      ]
    },
    {
      "cell_type": "code",
      "source": [
        "nums_train = nums_train.reshape(nums_train.shape[0], lag, nums_train.shape[1] // lag)\n",
        "nums_test = nums_test.reshape(nums_test.shape[0], lag, nums_test.shape[1] // lag)"
      ],
      "metadata": {
        "id": "3ZL_h8FLeuX8"
      },
      "execution_count": 31,
      "outputs": []
    },
    {
      "cell_type": "code",
      "source": [
        "nums_train.shape"
      ],
      "metadata": {
        "colab": {
          "base_uri": "https://localhost:8080/"
        },
        "id": "INeyk1dEycZB",
        "outputId": "e7807c4b-98c8-4ea6-dc52-4bf81cfa0415"
      },
      "execution_count": 32,
      "outputs": [
        {
          "output_type": "execute_result",
          "data": {
            "text/plain": [
              "(1587, 5, 6)"
            ]
          },
          "metadata": {},
          "execution_count": 32
        }
      ]
    },
    {
      "cell_type": "code",
      "source": [
        "text_input = Input(shape=(max_token_length,))\n",
        "embedding = Embedding(vocabulary, 64)(text_input)\n",
        "text_output = LSTM(64)(embedding)\n",
        "\n",
        "num_input = Input(shape=(lag,nums_train.shape[2]))\n",
        "lstm_first = LSTM(128,  activation='relu', input_shape=(lag, nums_train.shape[2]), return_sequences=True)(num_input)\n",
        "lstm_output = LSTM(64,  activation='relu')(lstm_first)\n",
        "\n",
        "concatenated = concatenate([text_output, lstm_output])\n",
        "\n",
        "dense1 = Dense(32, activation='relu')(concatenated)\n",
        "dense2 = Dense(8, activation='relu')(dense1)\n",
        "\n",
        "output = Dense(1, activation='linear')(dense2)\n",
        "\n",
        "model = Model(inputs=[text_input, num_input], outputs=output)"
      ],
      "metadata": {
        "id": "1Lj-ldm22cbK"
      },
      "execution_count": 33,
      "outputs": []
    },
    {
      "cell_type": "code",
      "source": [
        "model.compile(loss=keras.losses.MeanSquaredError() , optimizer=keras.optimizers.Adam(), metrics=[keras.metrics.MeanSquaredError(), keras.metrics.MeanAbsoluteError() ])"
      ],
      "metadata": {
        "id": "Q4nqowsXjald"
      },
      "execution_count": 34,
      "outputs": []
    },
    {
      "cell_type": "code",
      "source": [
        "history = model.fit([news_train, nums_train], y_train, validation_split=0.2, batch_size=12, epochs=20, shuffle=False)"
      ],
      "metadata": {
        "colab": {
          "base_uri": "https://localhost:8080/"
        },
        "id": "ASVB7pEmjymk",
        "outputId": "205a4079-b805-4745-b1d4-20e2d105f23f"
      },
      "execution_count": 35,
      "outputs": [
        {
          "output_type": "stream",
          "name": "stdout",
          "text": [
            "Epoch 1/20\n",
            "106/106 [==============================] - 30s 180ms/step - loss: 0.0085 - mean_squared_error: 0.0085 - mean_absolute_error: 0.0609 - val_loss: 0.0113 - val_mean_squared_error: 0.0113 - val_mean_absolute_error: 0.1003\n",
            "Epoch 2/20\n",
            "106/106 [==============================] - 19s 178ms/step - loss: 0.0087 - mean_squared_error: 0.0087 - mean_absolute_error: 0.0791 - val_loss: 0.0041 - val_mean_squared_error: 0.0041 - val_mean_absolute_error: 0.0559\n",
            "Epoch 3/20\n",
            "106/106 [==============================] - 18s 171ms/step - loss: 0.0098 - mean_squared_error: 0.0098 - mean_absolute_error: 0.0822 - val_loss: 0.0024 - val_mean_squared_error: 0.0024 - val_mean_absolute_error: 0.0391\n",
            "Epoch 4/20\n",
            "106/106 [==============================] - 19s 175ms/step - loss: 0.0125 - mean_squared_error: 0.0125 - mean_absolute_error: 0.0860 - val_loss: 0.0137 - val_mean_squared_error: 0.0137 - val_mean_absolute_error: 0.1028\n",
            "Epoch 5/20\n",
            "106/106 [==============================] - 18s 171ms/step - loss: 0.0108 - mean_squared_error: 0.0108 - mean_absolute_error: 0.0778 - val_loss: 0.0034 - val_mean_squared_error: 0.0034 - val_mean_absolute_error: 0.0473\n",
            "Epoch 6/20\n",
            "106/106 [==============================] - 21s 197ms/step - loss: 0.0116 - mean_squared_error: 0.0116 - mean_absolute_error: 0.0865 - val_loss: 0.0040 - val_mean_squared_error: 0.0040 - val_mean_absolute_error: 0.0508\n",
            "Epoch 7/20\n",
            "106/106 [==============================] - 18s 171ms/step - loss: 0.0164 - mean_squared_error: 0.0164 - mean_absolute_error: 0.1021 - val_loss: 0.0049 - val_mean_squared_error: 0.0049 - val_mean_absolute_error: 0.0592\n",
            "Epoch 8/20\n",
            "106/106 [==============================] - 19s 177ms/step - loss: 0.0090 - mean_squared_error: 0.0090 - mean_absolute_error: 0.0689 - val_loss: 0.0017 - val_mean_squared_error: 0.0017 - val_mean_absolute_error: 0.0322\n",
            "Epoch 9/20\n",
            "106/106 [==============================] - 18s 170ms/step - loss: 0.0035 - mean_squared_error: 0.0035 - mean_absolute_error: 0.0442 - val_loss: 0.0012 - val_mean_squared_error: 0.0012 - val_mean_absolute_error: 0.0284\n",
            "Epoch 10/20\n",
            "106/106 [==============================] - 19s 180ms/step - loss: 0.0016 - mean_squared_error: 0.0016 - mean_absolute_error: 0.0301 - val_loss: 0.0015 - val_mean_squared_error: 0.0015 - val_mean_absolute_error: 0.0320\n",
            "Epoch 11/20\n",
            "106/106 [==============================] - 18s 171ms/step - loss: 0.0012 - mean_squared_error: 0.0012 - mean_absolute_error: 0.0253 - val_loss: 0.0018 - val_mean_squared_error: 0.0018 - val_mean_absolute_error: 0.0347\n",
            "Epoch 12/20\n",
            "106/106 [==============================] - 19s 180ms/step - loss: 9.1395e-04 - mean_squared_error: 9.1395e-04 - mean_absolute_error: 0.0222 - val_loss: 0.0015 - val_mean_squared_error: 0.0015 - val_mean_absolute_error: 0.0317\n",
            "Epoch 13/20\n",
            "106/106 [==============================] - 18s 170ms/step - loss: 8.1567e-04 - mean_squared_error: 8.1567e-04 - mean_absolute_error: 0.0210 - val_loss: 0.0013 - val_mean_squared_error: 0.0013 - val_mean_absolute_error: 0.0291\n",
            "Epoch 14/20\n",
            "106/106 [==============================] - 19s 180ms/step - loss: 6.7612e-04 - mean_squared_error: 6.7612e-04 - mean_absolute_error: 0.0193 - val_loss: 0.0011 - val_mean_squared_error: 0.0011 - val_mean_absolute_error: 0.0271\n",
            "Epoch 15/20\n",
            "106/106 [==============================] - 18s 173ms/step - loss: 5.9358e-04 - mean_squared_error: 5.9358e-04 - mean_absolute_error: 0.0182 - val_loss: 0.0012 - val_mean_squared_error: 0.0012 - val_mean_absolute_error: 0.0276\n",
            "Epoch 16/20\n",
            "106/106 [==============================] - 19s 180ms/step - loss: 5.3309e-04 - mean_squared_error: 5.3309e-04 - mean_absolute_error: 0.0173 - val_loss: 0.0011 - val_mean_squared_error: 0.0011 - val_mean_absolute_error: 0.0272\n",
            "Epoch 17/20\n",
            "106/106 [==============================] - 18s 170ms/step - loss: 4.8406e-04 - mean_squared_error: 4.8406e-04 - mean_absolute_error: 0.0166 - val_loss: 0.0011 - val_mean_squared_error: 0.0011 - val_mean_absolute_error: 0.0270\n",
            "Epoch 18/20\n",
            "106/106 [==============================] - 19s 180ms/step - loss: 4.3895e-04 - mean_squared_error: 4.3895e-04 - mean_absolute_error: 0.0158 - val_loss: 0.0011 - val_mean_squared_error: 0.0011 - val_mean_absolute_error: 0.0271\n",
            "Epoch 19/20\n",
            "106/106 [==============================] - 18s 171ms/step - loss: 3.9804e-04 - mean_squared_error: 3.9804e-04 - mean_absolute_error: 0.0151 - val_loss: 0.0011 - val_mean_squared_error: 0.0011 - val_mean_absolute_error: 0.0268\n",
            "Epoch 20/20\n",
            "106/106 [==============================] - 19s 179ms/step - loss: 3.5834e-04 - mean_squared_error: 3.5834e-04 - mean_absolute_error: 0.0143 - val_loss: 0.0011 - val_mean_squared_error: 0.0011 - val_mean_absolute_error: 0.0266\n"
          ]
        }
      ]
    },
    {
      "cell_type": "code",
      "source": [
        "preds = model.predict([news_test, nums_test])\n",
        "preds = scaler.inverse_transform(preds)"
      ],
      "metadata": {
        "id": "2FxGCtIcj5gN",
        "colab": {
          "base_uri": "https://localhost:8080/"
        },
        "outputId": "36f46890-9fc4-4034-9432-d2872ec52397"
      },
      "execution_count": 36,
      "outputs": [
        {
          "output_type": "stream",
          "name": "stdout",
          "text": [
            "13/13 [==============================] - 2s 81ms/step\n"
          ]
        }
      ]
    },
    {
      "cell_type": "code",
      "source": [
        "from sklearn.metrics import mean_squared_error, mean_absolute_error, r2_score\n",
        "mean_squared_error(preds, y_test.values.reshape(-1,1)), mean_absolute_error(preds, y_test.values.reshape(-1,1)), r2_score(preds, y_test.values.reshape(-1,1))"
      ],
      "metadata": {
        "id": "xuwaViD5k80A",
        "colab": {
          "base_uri": "https://localhost:8080/"
        },
        "outputId": "aa1c4c40-305d-45d0-8128-30281be95674"
      },
      "execution_count": 37,
      "outputs": [
        {
          "output_type": "execute_result",
          "data": {
            "text/plain": [
              "(595479.5003247685, 687.8515551144521, 0.24957966075879168)"
            ]
          },
          "metadata": {},
          "execution_count": 37
        }
      ]
    },
    {
      "cell_type": "code",
      "source": [
        "plt.figure(figsize=(20, 10))\n",
        "plt.plot(y_test.values.reshape(-1,1), label='actual')\n",
        "plt.plot(preds, label='predicted')\n",
        "plt.legend()\n",
        "plt.show()"
      ],
      "metadata": {
        "id": "9tK-BEKF0f0J",
        "colab": {
          "base_uri": "https://localhost:8080/",
          "height": 637
        },
        "outputId": "206bfa3e-af3d-4710-a860-22809ff6c1d3"
      },
      "execution_count": 39,
      "outputs": [
        {
          "output_type": "display_data",
          "data": {
            "text/plain": [
              "<Figure size 2000x1000 with 1 Axes>"
            ],
            "image/png": "[encoded data removed]"
          },
          "metadata": {}
        }
      ]
    },
    {
      "cell_type": "markdown",
      "source": [],
      "metadata": {
        "id": "jj1lVBvYkSpF"
      }
    }
  ]
}